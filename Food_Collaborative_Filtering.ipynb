{
  "cells": [
    {
      "cell_type": "markdown",
      "metadata": {
        "papermill": {
          "duration": 0.016614,
          "end_time": "2021-08-10T15:51:39.112218",
          "exception": false,
          "start_time": "2021-08-10T15:51:39.095604",
          "status": "completed"
        },
        "tags": [],
        "id": "04EOsih58caX"
      },
      "source": [
        "# Table of contents\n",
        "\n",
        "[<h3>1. Exploratory data analysis</h3>](#1)\n",
        "\n",
        "[<h3>2. Collaborative Recommendation System</h3>](#2)\n",
        "\n",
        "[<h3>3. Recommendations</h3>](#3)"
      ]
    },
    {
      "cell_type": "code",
      "source": [
        "from google.colab import drive\n",
        "drive.mount('/content/drive')"
      ],
      "metadata": {
        "colab": {
          "base_uri": "https://localhost:8080/"
        },
        "id": "Xq7wM5Dg971i",
        "outputId": "48848caf-2733-4495-f8dd-e90d3f5e8bb0"
      },
      "execution_count": null,
      "outputs": [
        {
          "output_type": "stream",
          "name": "stdout",
          "text": [
            "Mounted at /content/drive\n"
          ]
        }
      ]
    },
    {
      "cell_type": "markdown",
      "metadata": {
        "papermill": {
          "duration": 0.01587,
          "end_time": "2021-08-10T15:51:39.144473",
          "exception": false,
          "start_time": "2021-08-10T15:51:39.128603",
          "status": "completed"
        },
        "tags": [],
        "id": "k5bYPtJb8caa"
      },
      "source": [
        "\n",
        "The datasets contain ratings and free-text tagging activities from Dummy data . Its composition in numbers:\n",
        "* 7120 ratings\n",
        "* 1274 foods\n",
        "\n",
        "<h2> Content:</h2>\n",
        "\n",
        "**foodrating3.csv that contains ratings of foods by users:**\n",
        "* userId\n",
        "* foodId\n",
        "* rating\n",
        "* timestamp\n",
        "\n",
        "**makanan.csv that contains food information:**\n",
        "* foodId\n",
        "* Nama\n",
        "* Tipe\n",
        "\n",
        "\n",
        "\n"
      ]
    },
    {
      "cell_type": "markdown",
      "metadata": {
        "papermill": {
          "duration": 0.015887,
          "end_time": "2021-08-10T15:51:39.177174",
          "exception": false,
          "start_time": "2021-08-10T15:51:39.161287",
          "status": "completed"
        },
        "tags": [],
        "id": "3o7a31qK8cac"
      },
      "source": [
        "# 1. Exploratory data analysis<a class=\"anchor\" id=\"1\"></a>\n",
        "\n",
        "\n"
      ]
    },
    {
      "cell_type": "code",
      "execution_count": null,
      "metadata": {
        "_cell_guid": "79c7e3d0-c299-4dcb-8224-4455121ee9b0",
        "_uuid": "d629ff2d2480ee46fbb7e2d37f6b5fab8052498a",
        "execution": {
          "iopub.execute_input": "2021-08-10T15:51:39.214939Z",
          "iopub.status.busy": "2021-08-10T15:51:39.214311Z",
          "iopub.status.idle": "2021-08-10T15:51:40.154668Z",
          "shell.execute_reply": "2021-08-10T15:51:40.155073Z"
        },
        "papermill": {
          "duration": 0.961922,
          "end_time": "2021-08-10T15:51:40.155285",
          "exception": false,
          "start_time": "2021-08-10T15:51:39.193363",
          "status": "completed"
        },
        "tags": [],
        "colab": {
          "base_uri": "https://localhost:8080/"
        },
        "id": "vsx4xTNh8cad",
        "outputId": "cf1e94ca-2648-4dc6-ebe6-ce29bbb36569"
      },
      "outputs": [
        {
          "output_type": "stream",
          "name": "stdout",
          "text": [
            "['foodrating3.csv', 'makanan.csv']\n"
          ]
        }
      ],
      "source": [
        "# Let's have a look at the csv-files\n",
        "import pandas as pd\n",
        "import numpy as np\n",
        "import seaborn as sns\n",
        "import matplotlib.pyplot as plt\n",
        "import os\n",
        "print(os.listdir(\"/content/drive/MyDrive/dataset/collaborative2\"))"
      ]
    },
    {
      "cell_type": "code",
      "execution_count": null,
      "metadata": {
        "execution": {
          "iopub.execute_input": "2021-08-10T15:51:40.198154Z",
          "iopub.status.busy": "2021-08-10T15:51:40.197581Z",
          "iopub.status.idle": "2021-08-10T15:52:02.051527Z",
          "shell.execute_reply": "2021-08-10T15:52:02.050917Z"
        },
        "papermill": {
          "duration": 21.877547,
          "end_time": "2021-08-10T15:52:02.051641",
          "exception": false,
          "start_time": "2021-08-10T15:51:40.174094",
          "status": "completed"
        },
        "tags": [],
        "colab": {
          "base_uri": "https://localhost:8080/"
        },
        "id": "hjhZjvkJ8caf",
        "outputId": "c10aa7ea-b86f-4658-b1ca-bdccaa7acf64"
      },
      "outputs": [
        {
          "output_type": "execute_result",
          "data": {
            "text/plain": [
              "(892586, 4)"
            ]
          },
          "metadata": {},
          "execution_count": 3
        }
      ],
      "source": [
        "rating = pd.read_csv('/content/drive/MyDrive/dataset/collaborative2/foodrating.csv')\n",
        "rating.shape"
      ]
    },
    {
      "cell_type": "code",
      "execution_count": null,
      "metadata": {
        "execution": {
          "iopub.execute_input": "2021-08-10T15:52:02.142868Z",
          "iopub.status.busy": "2021-08-10T15:52:02.142194Z",
          "iopub.status.idle": "2021-08-10T15:52:02.150595Z",
          "shell.execute_reply": "2021-08-10T15:52:02.149997Z"
        },
        "papermill": {
          "duration": 0.037709,
          "end_time": "2021-08-10T15:52:02.150709",
          "exception": false,
          "start_time": "2021-08-10T15:52:02.113000",
          "status": "completed"
        },
        "tags": [],
        "colab": {
          "base_uri": "https://localhost:8080/",
          "height": 206
        },
        "id": "3rAQHwIJ8cai",
        "outputId": "a87e2c73-0dfd-4f26-f29e-32de6d252e67"
      },
      "outputs": [
        {
          "output_type": "execute_result",
          "data": {
            "text/plain": [
              "   userId  foodId  rating         timestamp\n",
              "0       1    1259     3.5  02/04/2005 23:53\n",
              "1       1     692     3.5  02/04/2005 23:31\n",
              "2       1     756     3.5  02/04/2005 23:33\n",
              "3       1     772     3.5  02/04/2005 23:32\n",
              "4       1     447     3.5  02/04/2005 23:29"
            ],
            "text/html": [
              "\n",
              "  <div id=\"df-819ab6c2-0c0e-4be3-8aeb-9db9652c63a7\">\n",
              "    <div class=\"colab-df-container\">\n",
              "      <div>\n",
              "<style scoped>\n",
              "    .dataframe tbody tr th:only-of-type {\n",
              "        vertical-align: middle;\n",
              "    }\n",
              "\n",
              "    .dataframe tbody tr th {\n",
              "        vertical-align: top;\n",
              "    }\n",
              "\n",
              "    .dataframe thead th {\n",
              "        text-align: right;\n",
              "    }\n",
              "</style>\n",
              "<table border=\"1\" class=\"dataframe\">\n",
              "  <thead>\n",
              "    <tr style=\"text-align: right;\">\n",
              "      <th></th>\n",
              "      <th>userId</th>\n",
              "      <th>foodId</th>\n",
              "      <th>rating</th>\n",
              "      <th>timestamp</th>\n",
              "    </tr>\n",
              "  </thead>\n",
              "  <tbody>\n",
              "    <tr>\n",
              "      <th>0</th>\n",
              "      <td>1</td>\n",
              "      <td>1259</td>\n",
              "      <td>3.5</td>\n",
              "      <td>02/04/2005 23:53</td>\n",
              "    </tr>\n",
              "    <tr>\n",
              "      <th>1</th>\n",
              "      <td>1</td>\n",
              "      <td>692</td>\n",
              "      <td>3.5</td>\n",
              "      <td>02/04/2005 23:31</td>\n",
              "    </tr>\n",
              "    <tr>\n",
              "      <th>2</th>\n",
              "      <td>1</td>\n",
              "      <td>756</td>\n",
              "      <td>3.5</td>\n",
              "      <td>02/04/2005 23:33</td>\n",
              "    </tr>\n",
              "    <tr>\n",
              "      <th>3</th>\n",
              "      <td>1</td>\n",
              "      <td>772</td>\n",
              "      <td>3.5</td>\n",
              "      <td>02/04/2005 23:32</td>\n",
              "    </tr>\n",
              "    <tr>\n",
              "      <th>4</th>\n",
              "      <td>1</td>\n",
              "      <td>447</td>\n",
              "      <td>3.5</td>\n",
              "      <td>02/04/2005 23:29</td>\n",
              "    </tr>\n",
              "  </tbody>\n",
              "</table>\n",
              "</div>\n",
              "      <button class=\"colab-df-convert\" onclick=\"convertToInteractive('df-819ab6c2-0c0e-4be3-8aeb-9db9652c63a7')\"\n",
              "              title=\"Convert this dataframe to an interactive table.\"\n",
              "              style=\"display:none;\">\n",
              "        \n",
              "  <svg xmlns=\"http://www.w3.org/2000/svg\" height=\"24px\"viewBox=\"0 0 24 24\"\n",
              "       width=\"24px\">\n",
              "    <path d=\"M0 0h24v24H0V0z\" fill=\"none\"/>\n",
              "    <path d=\"M18.56 5.44l.94 2.06.94-2.06 2.06-.94-2.06-.94-.94-2.06-.94 2.06-2.06.94zm-11 1L8.5 8.5l.94-2.06 2.06-.94-2.06-.94L8.5 2.5l-.94 2.06-2.06.94zm10 10l.94 2.06.94-2.06 2.06-.94-2.06-.94-.94-2.06-.94 2.06-2.06.94z\"/><path d=\"M17.41 7.96l-1.37-1.37c-.4-.4-.92-.59-1.43-.59-.52 0-1.04.2-1.43.59L10.3 9.45l-7.72 7.72c-.78.78-.78 2.05 0 2.83L4 21.41c.39.39.9.59 1.41.59.51 0 1.02-.2 1.41-.59l7.78-7.78 2.81-2.81c.8-.78.8-2.07 0-2.86zM5.41 20L4 18.59l7.72-7.72 1.47 1.35L5.41 20z\"/>\n",
              "  </svg>\n",
              "      </button>\n",
              "      \n",
              "  <style>\n",
              "    .colab-df-container {\n",
              "      display:flex;\n",
              "      flex-wrap:wrap;\n",
              "      gap: 12px;\n",
              "    }\n",
              "\n",
              "    .colab-df-convert {\n",
              "      background-color: #E8F0FE;\n",
              "      border: none;\n",
              "      border-radius: 50%;\n",
              "      cursor: pointer;\n",
              "      display: none;\n",
              "      fill: #1967D2;\n",
              "      height: 32px;\n",
              "      padding: 0 0 0 0;\n",
              "      width: 32px;\n",
              "    }\n",
              "\n",
              "    .colab-df-convert:hover {\n",
              "      background-color: #E2EBFA;\n",
              "      box-shadow: 0px 1px 2px rgba(60, 64, 67, 0.3), 0px 1px 3px 1px rgba(60, 64, 67, 0.15);\n",
              "      fill: #174EA6;\n",
              "    }\n",
              "\n",
              "    [theme=dark] .colab-df-convert {\n",
              "      background-color: #3B4455;\n",
              "      fill: #D2E3FC;\n",
              "    }\n",
              "\n",
              "    [theme=dark] .colab-df-convert:hover {\n",
              "      background-color: #434B5C;\n",
              "      box-shadow: 0px 1px 3px 1px rgba(0, 0, 0, 0.15);\n",
              "      filter: drop-shadow(0px 1px 2px rgba(0, 0, 0, 0.3));\n",
              "      fill: #FFFFFF;\n",
              "    }\n",
              "  </style>\n",
              "\n",
              "      <script>\n",
              "        const buttonEl =\n",
              "          document.querySelector('#df-819ab6c2-0c0e-4be3-8aeb-9db9652c63a7 button.colab-df-convert');\n",
              "        buttonEl.style.display =\n",
              "          google.colab.kernel.accessAllowed ? 'block' : 'none';\n",
              "\n",
              "        async function convertToInteractive(key) {\n",
              "          const element = document.querySelector('#df-819ab6c2-0c0e-4be3-8aeb-9db9652c63a7');\n",
              "          const dataTable =\n",
              "            await google.colab.kernel.invokeFunction('convertToInteractive',\n",
              "                                                     [key], {});\n",
              "          if (!dataTable) return;\n",
              "\n",
              "          const docLinkHtml = 'Like what you see? Visit the ' +\n",
              "            '<a target=\"_blank\" href=https://colab.research.google.com/notebooks/data_table.ipynb>data table notebook</a>'\n",
              "            + ' to learn more about interactive tables.';\n",
              "          element.innerHTML = '';\n",
              "          dataTable['output_type'] = 'display_data';\n",
              "          await google.colab.output.renderOutput(dataTable, element);\n",
              "          const docLink = document.createElement('div');\n",
              "          docLink.innerHTML = docLinkHtml;\n",
              "          element.appendChild(docLink);\n",
              "        }\n",
              "      </script>\n",
              "    </div>\n",
              "  </div>\n",
              "  "
            ]
          },
          "metadata": {},
          "execution_count": 4
        }
      ],
      "source": [
        "rating.head()"
      ]
    },
    {
      "cell_type": "code",
      "execution_count": null,
      "metadata": {
        "execution": {
          "iopub.execute_input": "2021-08-10T15:52:02.224384Z",
          "iopub.status.busy": "2021-08-10T15:52:02.223817Z",
          "iopub.status.idle": "2021-08-10T15:52:02.366745Z",
          "shell.execute_reply": "2021-08-10T15:52:02.366203Z"
        },
        "papermill": {
          "duration": 0.163089,
          "end_time": "2021-08-10T15:52:02.366860",
          "exception": false,
          "start_time": "2021-08-10T15:52:02.203771",
          "status": "completed"
        },
        "tags": [],
        "id": "czVfzEBE8cal"
      },
      "outputs": [],
      "source": [
        "#delete timestamp since its inrelevant\n",
        "rating = rating[rating.columns.drop(\"timestamp\")]"
      ]
    },
    {
      "cell_type": "code",
      "execution_count": null,
      "metadata": {
        "execution": {
          "iopub.execute_input": "2021-08-10T15:52:02.548004Z",
          "iopub.status.busy": "2021-08-10T15:52:02.491808Z",
          "iopub.status.idle": "2021-08-10T15:52:03.572009Z",
          "shell.execute_reply": "2021-08-10T15:52:03.571367Z"
        },
        "papermill": {
          "duration": 1.187087,
          "end_time": "2021-08-10T15:52:03.572122",
          "exception": false,
          "start_time": "2021-08-10T15:52:02.385035",
          "status": "completed"
        },
        "tags": [],
        "colab": {
          "base_uri": "https://localhost:8080/",
          "height": 300
        },
        "id": "wlCHq-0r8cam",
        "outputId": "28f68530-8821-417f-ca29-f9b901de7e18"
      },
      "outputs": [
        {
          "output_type": "execute_result",
          "data": {
            "text/plain": [
              "              userId         foodId         rating\n",
              "count  892586.000000  892586.000000  892586.000000\n",
              "mean     3531.553646     635.798500       3.552189\n",
              "std      2021.186220     367.556937       1.050816\n",
              "min         1.000000       0.000000       0.500000\n",
              "25%      1813.000000     317.000000       3.000000\n",
              "50%      3534.000000     635.000000       4.000000\n",
              "75%      5261.000000     954.000000       4.000000\n",
              "max      7120.000000    1273.000000       5.000000"
            ],
            "text/html": [
              "\n",
              "  <div id=\"df-72fce8e0-aac8-48c7-b5ae-47b32cf58693\">\n",
              "    <div class=\"colab-df-container\">\n",
              "      <div>\n",
              "<style scoped>\n",
              "    .dataframe tbody tr th:only-of-type {\n",
              "        vertical-align: middle;\n",
              "    }\n",
              "\n",
              "    .dataframe tbody tr th {\n",
              "        vertical-align: top;\n",
              "    }\n",
              "\n",
              "    .dataframe thead th {\n",
              "        text-align: right;\n",
              "    }\n",
              "</style>\n",
              "<table border=\"1\" class=\"dataframe\">\n",
              "  <thead>\n",
              "    <tr style=\"text-align: right;\">\n",
              "      <th></th>\n",
              "      <th>userId</th>\n",
              "      <th>foodId</th>\n",
              "      <th>rating</th>\n",
              "    </tr>\n",
              "  </thead>\n",
              "  <tbody>\n",
              "    <tr>\n",
              "      <th>count</th>\n",
              "      <td>892586.000000</td>\n",
              "      <td>892586.000000</td>\n",
              "      <td>892586.000000</td>\n",
              "    </tr>\n",
              "    <tr>\n",
              "      <th>mean</th>\n",
              "      <td>3531.553646</td>\n",
              "      <td>635.798500</td>\n",
              "      <td>3.552189</td>\n",
              "    </tr>\n",
              "    <tr>\n",
              "      <th>std</th>\n",
              "      <td>2021.186220</td>\n",
              "      <td>367.556937</td>\n",
              "      <td>1.050816</td>\n",
              "    </tr>\n",
              "    <tr>\n",
              "      <th>min</th>\n",
              "      <td>1.000000</td>\n",
              "      <td>0.000000</td>\n",
              "      <td>0.500000</td>\n",
              "    </tr>\n",
              "    <tr>\n",
              "      <th>25%</th>\n",
              "      <td>1813.000000</td>\n",
              "      <td>317.000000</td>\n",
              "      <td>3.000000</td>\n",
              "    </tr>\n",
              "    <tr>\n",
              "      <th>50%</th>\n",
              "      <td>3534.000000</td>\n",
              "      <td>635.000000</td>\n",
              "      <td>4.000000</td>\n",
              "    </tr>\n",
              "    <tr>\n",
              "      <th>75%</th>\n",
              "      <td>5261.000000</td>\n",
              "      <td>954.000000</td>\n",
              "      <td>4.000000</td>\n",
              "    </tr>\n",
              "    <tr>\n",
              "      <th>max</th>\n",
              "      <td>7120.000000</td>\n",
              "      <td>1273.000000</td>\n",
              "      <td>5.000000</td>\n",
              "    </tr>\n",
              "  </tbody>\n",
              "</table>\n",
              "</div>\n",
              "      <button class=\"colab-df-convert\" onclick=\"convertToInteractive('df-72fce8e0-aac8-48c7-b5ae-47b32cf58693')\"\n",
              "              title=\"Convert this dataframe to an interactive table.\"\n",
              "              style=\"display:none;\">\n",
              "        \n",
              "  <svg xmlns=\"http://www.w3.org/2000/svg\" height=\"24px\"viewBox=\"0 0 24 24\"\n",
              "       width=\"24px\">\n",
              "    <path d=\"M0 0h24v24H0V0z\" fill=\"none\"/>\n",
              "    <path d=\"M18.56 5.44l.94 2.06.94-2.06 2.06-.94-2.06-.94-.94-2.06-.94 2.06-2.06.94zm-11 1L8.5 8.5l.94-2.06 2.06-.94-2.06-.94L8.5 2.5l-.94 2.06-2.06.94zm10 10l.94 2.06.94-2.06 2.06-.94-2.06-.94-.94-2.06-.94 2.06-2.06.94z\"/><path d=\"M17.41 7.96l-1.37-1.37c-.4-.4-.92-.59-1.43-.59-.52 0-1.04.2-1.43.59L10.3 9.45l-7.72 7.72c-.78.78-.78 2.05 0 2.83L4 21.41c.39.39.9.59 1.41.59.51 0 1.02-.2 1.41-.59l7.78-7.78 2.81-2.81c.8-.78.8-2.07 0-2.86zM5.41 20L4 18.59l7.72-7.72 1.47 1.35L5.41 20z\"/>\n",
              "  </svg>\n",
              "      </button>\n",
              "      \n",
              "  <style>\n",
              "    .colab-df-container {\n",
              "      display:flex;\n",
              "      flex-wrap:wrap;\n",
              "      gap: 12px;\n",
              "    }\n",
              "\n",
              "    .colab-df-convert {\n",
              "      background-color: #E8F0FE;\n",
              "      border: none;\n",
              "      border-radius: 50%;\n",
              "      cursor: pointer;\n",
              "      display: none;\n",
              "      fill: #1967D2;\n",
              "      height: 32px;\n",
              "      padding: 0 0 0 0;\n",
              "      width: 32px;\n",
              "    }\n",
              "\n",
              "    .colab-df-convert:hover {\n",
              "      background-color: #E2EBFA;\n",
              "      box-shadow: 0px 1px 2px rgba(60, 64, 67, 0.3), 0px 1px 3px 1px rgba(60, 64, 67, 0.15);\n",
              "      fill: #174EA6;\n",
              "    }\n",
              "\n",
              "    [theme=dark] .colab-df-convert {\n",
              "      background-color: #3B4455;\n",
              "      fill: #D2E3FC;\n",
              "    }\n",
              "\n",
              "    [theme=dark] .colab-df-convert:hover {\n",
              "      background-color: #434B5C;\n",
              "      box-shadow: 0px 1px 3px 1px rgba(0, 0, 0, 0.15);\n",
              "      filter: drop-shadow(0px 1px 2px rgba(0, 0, 0, 0.3));\n",
              "      fill: #FFFFFF;\n",
              "    }\n",
              "  </style>\n",
              "\n",
              "      <script>\n",
              "        const buttonEl =\n",
              "          document.querySelector('#df-72fce8e0-aac8-48c7-b5ae-47b32cf58693 button.colab-df-convert');\n",
              "        buttonEl.style.display =\n",
              "          google.colab.kernel.accessAllowed ? 'block' : 'none';\n",
              "\n",
              "        async function convertToInteractive(key) {\n",
              "          const element = document.querySelector('#df-72fce8e0-aac8-48c7-b5ae-47b32cf58693');\n",
              "          const dataTable =\n",
              "            await google.colab.kernel.invokeFunction('convertToInteractive',\n",
              "                                                     [key], {});\n",
              "          if (!dataTable) return;\n",
              "\n",
              "          const docLinkHtml = 'Like what you see? Visit the ' +\n",
              "            '<a target=\"_blank\" href=https://colab.research.google.com/notebooks/data_table.ipynb>data table notebook</a>'\n",
              "            + ' to learn more about interactive tables.';\n",
              "          element.innerHTML = '';\n",
              "          dataTable['output_type'] = 'display_data';\n",
              "          await google.colab.output.renderOutput(dataTable, element);\n",
              "          const docLink = document.createElement('div');\n",
              "          docLink.innerHTML = docLinkHtml;\n",
              "          element.appendChild(docLink);\n",
              "        }\n",
              "      </script>\n",
              "    </div>\n",
              "  </div>\n",
              "  "
            ]
          },
          "metadata": {},
          "execution_count": 6
        }
      ],
      "source": [
        "rating.describe()"
      ]
    },
    {
      "cell_type": "code",
      "execution_count": null,
      "metadata": {
        "execution": {
          "iopub.execute_input": "2021-08-10T15:52:03.619775Z",
          "iopub.status.busy": "2021-08-10T15:52:03.619059Z",
          "iopub.status.idle": "2021-08-10T15:52:03.622512Z",
          "shell.execute_reply": "2021-08-10T15:52:03.622953Z"
        },
        "papermill": {
          "duration": 0.032039,
          "end_time": "2021-08-10T15:52:03.623101",
          "exception": false,
          "start_time": "2021-08-10T15:52:03.591062",
          "status": "completed"
        },
        "tags": [],
        "colab": {
          "base_uri": "https://localhost:8080/"
        },
        "id": "xGYIDcs08can",
        "outputId": "261753da-08ed-4cac-a016-7f6b4a46f831"
      },
      "outputs": [
        {
          "output_type": "stream",
          "name": "stdout",
          "text": [
            "<class 'pandas.core.frame.DataFrame'>\n",
            "RangeIndex: 892586 entries, 0 to 892585\n",
            "Data columns (total 3 columns):\n",
            " #   Column  Non-Null Count   Dtype  \n",
            "---  ------  --------------   -----  \n",
            " 0   userId  892586 non-null  int64  \n",
            " 1   foodId  892586 non-null  int64  \n",
            " 2   rating  892586 non-null  float64\n",
            "dtypes: float64(1), int64(2)\n",
            "memory usage: 20.4 MB\n"
          ]
        }
      ],
      "source": [
        "rating.info()"
      ]
    },
    {
      "cell_type": "code",
      "source": [
        "rating.isnull().sum()"
      ],
      "metadata": {
        "colab": {
          "base_uri": "https://localhost:8080/"
        },
        "id": "xut9CrWN-09R",
        "outputId": "5e23a10a-2470-42dc-9078-bb55f1402829"
      },
      "execution_count": null,
      "outputs": [
        {
          "output_type": "execute_result",
          "data": {
            "text/plain": [
              "userId    0\n",
              "foodId    0\n",
              "rating    0\n",
              "dtype: int64"
            ]
          },
          "metadata": {},
          "execution_count": 8
        }
      ]
    },
    {
      "cell_type": "markdown",
      "metadata": {
        "papermill": {
          "duration": 0.019903,
          "end_time": "2021-08-10T15:52:28.845330",
          "exception": false,
          "start_time": "2021-08-10T15:52:28.825427",
          "status": "completed"
        },
        "tags": [],
        "id": "45s3pncR8cap"
      },
      "source": [
        "The dataset is clean and has no missing value.\n",
        "\n",
        "\n",
        "Rating only has the ID of foods and we would like to see also the name of the foods, therefore we will later get the name out of the file makanan.csv.\n",
        "\n",
        "**makanan.csv:**"
      ]
    },
    {
      "cell_type": "code",
      "execution_count": null,
      "metadata": {
        "execution": {
          "iopub.execute_input": "2021-08-10T15:52:28.894625Z",
          "iopub.status.busy": "2021-08-10T15:52:28.893967Z",
          "iopub.status.idle": "2021-08-10T15:52:28.942427Z",
          "shell.execute_reply": "2021-08-10T15:52:28.941913Z"
        },
        "papermill": {
          "duration": 0.077233,
          "end_time": "2021-08-10T15:52:28.942548",
          "exception": false,
          "start_time": "2021-08-10T15:52:28.865315",
          "status": "completed"
        },
        "tags": [],
        "id": "nxgqEaXw8caq"
      },
      "outputs": [],
      "source": [
        "food = pd.read_csv('/content/drive/MyDrive/dataset/collaborative/makanan.csv')"
      ]
    },
    {
      "cell_type": "code",
      "execution_count": null,
      "metadata": {
        "execution": {
          "iopub.execute_input": "2021-08-10T15:52:28.992700Z",
          "iopub.status.busy": "2021-08-10T15:52:28.992030Z",
          "iopub.status.idle": "2021-08-10T15:52:28.994852Z",
          "shell.execute_reply": "2021-08-10T15:52:28.995393Z"
        },
        "papermill": {
          "duration": 0.032731,
          "end_time": "2021-08-10T15:52:28.995536",
          "exception": false,
          "start_time": "2021-08-10T15:52:28.962805",
          "status": "completed"
        },
        "tags": [],
        "colab": {
          "base_uri": "https://localhost:8080/",
          "height": 206
        },
        "id": "781klml38car",
        "outputId": "fc076d42-5641-451f-f14e-924e4754db75"
      },
      "outputs": [
        {
          "output_type": "execute_result",
          "data": {
            "text/plain": [
              "   foodId                 Nama         Tipe\n",
              "0       1          Sosis Bakar  ayam-daging\n",
              "1       2  Ngohiong Ayam Udang  ayam-daging\n",
              "2       3           Rawon Ayam  ayam-daging\n",
              "3       4   Usus Goreng Crispy  ayam-daging\n",
              "4       5      Ceker Rica Rica  ayam-daging"
            ],
            "text/html": [
              "\n",
              "  <div id=\"df-2cf5fae4-2507-4b1a-9c36-7a7c9b7f21ca\">\n",
              "    <div class=\"colab-df-container\">\n",
              "      <div>\n",
              "<style scoped>\n",
              "    .dataframe tbody tr th:only-of-type {\n",
              "        vertical-align: middle;\n",
              "    }\n",
              "\n",
              "    .dataframe tbody tr th {\n",
              "        vertical-align: top;\n",
              "    }\n",
              "\n",
              "    .dataframe thead th {\n",
              "        text-align: right;\n",
              "    }\n",
              "</style>\n",
              "<table border=\"1\" class=\"dataframe\">\n",
              "  <thead>\n",
              "    <tr style=\"text-align: right;\">\n",
              "      <th></th>\n",
              "      <th>foodId</th>\n",
              "      <th>Nama</th>\n",
              "      <th>Tipe</th>\n",
              "    </tr>\n",
              "  </thead>\n",
              "  <tbody>\n",
              "    <tr>\n",
              "      <th>0</th>\n",
              "      <td>1</td>\n",
              "      <td>Sosis Bakar</td>\n",
              "      <td>ayam-daging</td>\n",
              "    </tr>\n",
              "    <tr>\n",
              "      <th>1</th>\n",
              "      <td>2</td>\n",
              "      <td>Ngohiong Ayam Udang</td>\n",
              "      <td>ayam-daging</td>\n",
              "    </tr>\n",
              "    <tr>\n",
              "      <th>2</th>\n",
              "      <td>3</td>\n",
              "      <td>Rawon Ayam</td>\n",
              "      <td>ayam-daging</td>\n",
              "    </tr>\n",
              "    <tr>\n",
              "      <th>3</th>\n",
              "      <td>4</td>\n",
              "      <td>Usus Goreng Crispy</td>\n",
              "      <td>ayam-daging</td>\n",
              "    </tr>\n",
              "    <tr>\n",
              "      <th>4</th>\n",
              "      <td>5</td>\n",
              "      <td>Ceker Rica Rica</td>\n",
              "      <td>ayam-daging</td>\n",
              "    </tr>\n",
              "  </tbody>\n",
              "</table>\n",
              "</div>\n",
              "      <button class=\"colab-df-convert\" onclick=\"convertToInteractive('df-2cf5fae4-2507-4b1a-9c36-7a7c9b7f21ca')\"\n",
              "              title=\"Convert this dataframe to an interactive table.\"\n",
              "              style=\"display:none;\">\n",
              "        \n",
              "  <svg xmlns=\"http://www.w3.org/2000/svg\" height=\"24px\"viewBox=\"0 0 24 24\"\n",
              "       width=\"24px\">\n",
              "    <path d=\"M0 0h24v24H0V0z\" fill=\"none\"/>\n",
              "    <path d=\"M18.56 5.44l.94 2.06.94-2.06 2.06-.94-2.06-.94-.94-2.06-.94 2.06-2.06.94zm-11 1L8.5 8.5l.94-2.06 2.06-.94-2.06-.94L8.5 2.5l-.94 2.06-2.06.94zm10 10l.94 2.06.94-2.06 2.06-.94-2.06-.94-.94-2.06-.94 2.06-2.06.94z\"/><path d=\"M17.41 7.96l-1.37-1.37c-.4-.4-.92-.59-1.43-.59-.52 0-1.04.2-1.43.59L10.3 9.45l-7.72 7.72c-.78.78-.78 2.05 0 2.83L4 21.41c.39.39.9.59 1.41.59.51 0 1.02-.2 1.41-.59l7.78-7.78 2.81-2.81c.8-.78.8-2.07 0-2.86zM5.41 20L4 18.59l7.72-7.72 1.47 1.35L5.41 20z\"/>\n",
              "  </svg>\n",
              "      </button>\n",
              "      \n",
              "  <style>\n",
              "    .colab-df-container {\n",
              "      display:flex;\n",
              "      flex-wrap:wrap;\n",
              "      gap: 12px;\n",
              "    }\n",
              "\n",
              "    .colab-df-convert {\n",
              "      background-color: #E8F0FE;\n",
              "      border: none;\n",
              "      border-radius: 50%;\n",
              "      cursor: pointer;\n",
              "      display: none;\n",
              "      fill: #1967D2;\n",
              "      height: 32px;\n",
              "      padding: 0 0 0 0;\n",
              "      width: 32px;\n",
              "    }\n",
              "\n",
              "    .colab-df-convert:hover {\n",
              "      background-color: #E2EBFA;\n",
              "      box-shadow: 0px 1px 2px rgba(60, 64, 67, 0.3), 0px 1px 3px 1px rgba(60, 64, 67, 0.15);\n",
              "      fill: #174EA6;\n",
              "    }\n",
              "\n",
              "    [theme=dark] .colab-df-convert {\n",
              "      background-color: #3B4455;\n",
              "      fill: #D2E3FC;\n",
              "    }\n",
              "\n",
              "    [theme=dark] .colab-df-convert:hover {\n",
              "      background-color: #434B5C;\n",
              "      box-shadow: 0px 1px 3px 1px rgba(0, 0, 0, 0.15);\n",
              "      filter: drop-shadow(0px 1px 2px rgba(0, 0, 0, 0.3));\n",
              "      fill: #FFFFFF;\n",
              "    }\n",
              "  </style>\n",
              "\n",
              "      <script>\n",
              "        const buttonEl =\n",
              "          document.querySelector('#df-2cf5fae4-2507-4b1a-9c36-7a7c9b7f21ca button.colab-df-convert');\n",
              "        buttonEl.style.display =\n",
              "          google.colab.kernel.accessAllowed ? 'block' : 'none';\n",
              "\n",
              "        async function convertToInteractive(key) {\n",
              "          const element = document.querySelector('#df-2cf5fae4-2507-4b1a-9c36-7a7c9b7f21ca');\n",
              "          const dataTable =\n",
              "            await google.colab.kernel.invokeFunction('convertToInteractive',\n",
              "                                                     [key], {});\n",
              "          if (!dataTable) return;\n",
              "\n",
              "          const docLinkHtml = 'Like what you see? Visit the ' +\n",
              "            '<a target=\"_blank\" href=https://colab.research.google.com/notebooks/data_table.ipynb>data table notebook</a>'\n",
              "            + ' to learn more about interactive tables.';\n",
              "          element.innerHTML = '';\n",
              "          dataTable['output_type'] = 'display_data';\n",
              "          await google.colab.output.renderOutput(dataTable, element);\n",
              "          const docLink = document.createElement('div');\n",
              "          docLink.innerHTML = docLinkHtml;\n",
              "          element.appendChild(docLink);\n",
              "        }\n",
              "      </script>\n",
              "    </div>\n",
              "  </div>\n",
              "  "
            ]
          },
          "metadata": {},
          "execution_count": 10
        }
      ],
      "source": [
        "food.head(5)"
      ]
    },
    {
      "cell_type": "code",
      "execution_count": null,
      "metadata": {
        "execution": {
          "iopub.execute_input": "2021-08-10T15:52:29.039653Z",
          "iopub.status.busy": "2021-08-10T15:52:29.039084Z",
          "iopub.status.idle": "2021-08-10T15:52:29.053307Z",
          "shell.execute_reply": "2021-08-10T15:52:29.052780Z"
        },
        "papermill": {
          "duration": 0.037389,
          "end_time": "2021-08-10T15:52:29.053425",
          "exception": false,
          "start_time": "2021-08-10T15:52:29.016036",
          "status": "completed"
        },
        "tags": [],
        "colab": {
          "base_uri": "https://localhost:8080/",
          "height": 300
        },
        "id": "32hSwQKG8cas",
        "outputId": "f97387e6-a0d0-4cac-aa94-5740d7683033"
      },
      "outputs": [
        {
          "output_type": "execute_result",
          "data": {
            "text/plain": [
              "            foodId\n",
              "count  1273.000000\n",
              "mean    637.000000\n",
              "std     367.627756\n",
              "min       1.000000\n",
              "25%     319.000000\n",
              "50%     637.000000\n",
              "75%     955.000000\n",
              "max    1273.000000"
            ],
            "text/html": [
              "\n",
              "  <div id=\"df-8e572ab2-0379-4ba1-8601-adb43516db5e\">\n",
              "    <div class=\"colab-df-container\">\n",
              "      <div>\n",
              "<style scoped>\n",
              "    .dataframe tbody tr th:only-of-type {\n",
              "        vertical-align: middle;\n",
              "    }\n",
              "\n",
              "    .dataframe tbody tr th {\n",
              "        vertical-align: top;\n",
              "    }\n",
              "\n",
              "    .dataframe thead th {\n",
              "        text-align: right;\n",
              "    }\n",
              "</style>\n",
              "<table border=\"1\" class=\"dataframe\">\n",
              "  <thead>\n",
              "    <tr style=\"text-align: right;\">\n",
              "      <th></th>\n",
              "      <th>foodId</th>\n",
              "    </tr>\n",
              "  </thead>\n",
              "  <tbody>\n",
              "    <tr>\n",
              "      <th>count</th>\n",
              "      <td>1273.000000</td>\n",
              "    </tr>\n",
              "    <tr>\n",
              "      <th>mean</th>\n",
              "      <td>637.000000</td>\n",
              "    </tr>\n",
              "    <tr>\n",
              "      <th>std</th>\n",
              "      <td>367.627756</td>\n",
              "    </tr>\n",
              "    <tr>\n",
              "      <th>min</th>\n",
              "      <td>1.000000</td>\n",
              "    </tr>\n",
              "    <tr>\n",
              "      <th>25%</th>\n",
              "      <td>319.000000</td>\n",
              "    </tr>\n",
              "    <tr>\n",
              "      <th>50%</th>\n",
              "      <td>637.000000</td>\n",
              "    </tr>\n",
              "    <tr>\n",
              "      <th>75%</th>\n",
              "      <td>955.000000</td>\n",
              "    </tr>\n",
              "    <tr>\n",
              "      <th>max</th>\n",
              "      <td>1273.000000</td>\n",
              "    </tr>\n",
              "  </tbody>\n",
              "</table>\n",
              "</div>\n",
              "      <button class=\"colab-df-convert\" onclick=\"convertToInteractive('df-8e572ab2-0379-4ba1-8601-adb43516db5e')\"\n",
              "              title=\"Convert this dataframe to an interactive table.\"\n",
              "              style=\"display:none;\">\n",
              "        \n",
              "  <svg xmlns=\"http://www.w3.org/2000/svg\" height=\"24px\"viewBox=\"0 0 24 24\"\n",
              "       width=\"24px\">\n",
              "    <path d=\"M0 0h24v24H0V0z\" fill=\"none\"/>\n",
              "    <path d=\"M18.56 5.44l.94 2.06.94-2.06 2.06-.94-2.06-.94-.94-2.06-.94 2.06-2.06.94zm-11 1L8.5 8.5l.94-2.06 2.06-.94-2.06-.94L8.5 2.5l-.94 2.06-2.06.94zm10 10l.94 2.06.94-2.06 2.06-.94-2.06-.94-.94-2.06-.94 2.06-2.06.94z\"/><path d=\"M17.41 7.96l-1.37-1.37c-.4-.4-.92-.59-1.43-.59-.52 0-1.04.2-1.43.59L10.3 9.45l-7.72 7.72c-.78.78-.78 2.05 0 2.83L4 21.41c.39.39.9.59 1.41.59.51 0 1.02-.2 1.41-.59l7.78-7.78 2.81-2.81c.8-.78.8-2.07 0-2.86zM5.41 20L4 18.59l7.72-7.72 1.47 1.35L5.41 20z\"/>\n",
              "  </svg>\n",
              "      </button>\n",
              "      \n",
              "  <style>\n",
              "    .colab-df-container {\n",
              "      display:flex;\n",
              "      flex-wrap:wrap;\n",
              "      gap: 12px;\n",
              "    }\n",
              "\n",
              "    .colab-df-convert {\n",
              "      background-color: #E8F0FE;\n",
              "      border: none;\n",
              "      border-radius: 50%;\n",
              "      cursor: pointer;\n",
              "      display: none;\n",
              "      fill: #1967D2;\n",
              "      height: 32px;\n",
              "      padding: 0 0 0 0;\n",
              "      width: 32px;\n",
              "    }\n",
              "\n",
              "    .colab-df-convert:hover {\n",
              "      background-color: #E2EBFA;\n",
              "      box-shadow: 0px 1px 2px rgba(60, 64, 67, 0.3), 0px 1px 3px 1px rgba(60, 64, 67, 0.15);\n",
              "      fill: #174EA6;\n",
              "    }\n",
              "\n",
              "    [theme=dark] .colab-df-convert {\n",
              "      background-color: #3B4455;\n",
              "      fill: #D2E3FC;\n",
              "    }\n",
              "\n",
              "    [theme=dark] .colab-df-convert:hover {\n",
              "      background-color: #434B5C;\n",
              "      box-shadow: 0px 1px 3px 1px rgba(0, 0, 0, 0.15);\n",
              "      filter: drop-shadow(0px 1px 2px rgba(0, 0, 0, 0.3));\n",
              "      fill: #FFFFFF;\n",
              "    }\n",
              "  </style>\n",
              "\n",
              "      <script>\n",
              "        const buttonEl =\n",
              "          document.querySelector('#df-8e572ab2-0379-4ba1-8601-adb43516db5e button.colab-df-convert');\n",
              "        buttonEl.style.display =\n",
              "          google.colab.kernel.accessAllowed ? 'block' : 'none';\n",
              "\n",
              "        async function convertToInteractive(key) {\n",
              "          const element = document.querySelector('#df-8e572ab2-0379-4ba1-8601-adb43516db5e');\n",
              "          const dataTable =\n",
              "            await google.colab.kernel.invokeFunction('convertToInteractive',\n",
              "                                                     [key], {});\n",
              "          if (!dataTable) return;\n",
              "\n",
              "          const docLinkHtml = 'Like what you see? Visit the ' +\n",
              "            '<a target=\"_blank\" href=https://colab.research.google.com/notebooks/data_table.ipynb>data table notebook</a>'\n",
              "            + ' to learn more about interactive tables.';\n",
              "          element.innerHTML = '';\n",
              "          dataTable['output_type'] = 'display_data';\n",
              "          await google.colab.output.renderOutput(dataTable, element);\n",
              "          const docLink = document.createElement('div');\n",
              "          docLink.innerHTML = docLinkHtml;\n",
              "          element.appendChild(docLink);\n",
              "        }\n",
              "      </script>\n",
              "    </div>\n",
              "  </div>\n",
              "  "
            ]
          },
          "metadata": {},
          "execution_count": 11
        }
      ],
      "source": [
        "food.describe()"
      ]
    },
    {
      "cell_type": "code",
      "execution_count": null,
      "metadata": {
        "execution": {
          "iopub.execute_input": "2021-08-10T15:52:29.104331Z",
          "iopub.status.busy": "2021-08-10T15:52:29.103608Z",
          "iopub.status.idle": "2021-08-10T15:52:29.113305Z",
          "shell.execute_reply": "2021-08-10T15:52:29.112694Z"
        },
        "papermill": {
          "duration": 0.038751,
          "end_time": "2021-08-10T15:52:29.113423",
          "exception": false,
          "start_time": "2021-08-10T15:52:29.074672",
          "status": "completed"
        },
        "tags": [],
        "colab": {
          "base_uri": "https://localhost:8080/"
        },
        "id": "NkLIhk_y8cas",
        "outputId": "61628b88-e224-4699-af79-fc97147cfd16"
      },
      "outputs": [
        {
          "output_type": "stream",
          "name": "stdout",
          "text": [
            "<class 'pandas.core.frame.DataFrame'>\n",
            "RangeIndex: 1273 entries, 0 to 1272\n",
            "Data columns (total 3 columns):\n",
            " #   Column  Non-Null Count  Dtype \n",
            "---  ------  --------------  ----- \n",
            " 0   foodId  1273 non-null   int64 \n",
            " 1   Nama    1273 non-null   object\n",
            " 2   Tipe    1273 non-null   object\n",
            "dtypes: int64(1), object(2)\n",
            "memory usage: 30.0+ KB\n"
          ]
        }
      ],
      "source": [
        "food.info()"
      ]
    },
    {
      "cell_type": "markdown",
      "metadata": {
        "papermill": {
          "duration": 0.021489,
          "end_time": "2021-08-10T15:52:29.156418",
          "exception": false,
          "start_time": "2021-08-10T15:52:29.134929",
          "status": "completed"
        },
        "tags": [],
        "id": "qg0pkgji8cat"
      },
      "source": [
        "makanan.csv seems to be clean"
      ]
    },
    {
      "cell_type": "code",
      "execution_count": null,
      "metadata": {
        "execution": {
          "iopub.execute_input": "2021-08-10T15:52:29.209581Z",
          "iopub.status.busy": "2021-08-10T15:52:29.208719Z",
          "iopub.status.idle": "2021-08-10T15:52:29.212724Z",
          "shell.execute_reply": "2021-08-10T15:52:29.212177Z"
        },
        "papermill": {
          "duration": 0.034339,
          "end_time": "2021-08-10T15:52:29.212837",
          "exception": false,
          "start_time": "2021-08-10T15:52:29.178498",
          "status": "completed"
        },
        "tags": [],
        "colab": {
          "base_uri": "https://localhost:8080/",
          "height": 206
        },
        "id": "0h7AtPBe8cau",
        "outputId": "e3f3ca34-80b7-4f4f-acef-f15adcd5da73"
      },
      "outputs": [
        {
          "output_type": "execute_result",
          "data": {
            "text/plain": [
              "   foodId                 Nama         Tipe\n",
              "0       1          Sosis Bakar  ayam-daging\n",
              "1       2  Ngohiong Ayam Udang  ayam-daging\n",
              "2       3           Rawon Ayam  ayam-daging\n",
              "3       4   Usus Goreng Crispy  ayam-daging\n",
              "4       5      Ceker Rica Rica  ayam-daging"
            ],
            "text/html": [
              "\n",
              "  <div id=\"df-e1667fde-20ae-4096-8fa9-46b48567f108\">\n",
              "    <div class=\"colab-df-container\">\n",
              "      <div>\n",
              "<style scoped>\n",
              "    .dataframe tbody tr th:only-of-type {\n",
              "        vertical-align: middle;\n",
              "    }\n",
              "\n",
              "    .dataframe tbody tr th {\n",
              "        vertical-align: top;\n",
              "    }\n",
              "\n",
              "    .dataframe thead th {\n",
              "        text-align: right;\n",
              "    }\n",
              "</style>\n",
              "<table border=\"1\" class=\"dataframe\">\n",
              "  <thead>\n",
              "    <tr style=\"text-align: right;\">\n",
              "      <th></th>\n",
              "      <th>foodId</th>\n",
              "      <th>Nama</th>\n",
              "      <th>Tipe</th>\n",
              "    </tr>\n",
              "  </thead>\n",
              "  <tbody>\n",
              "    <tr>\n",
              "      <th>0</th>\n",
              "      <td>1</td>\n",
              "      <td>Sosis Bakar</td>\n",
              "      <td>ayam-daging</td>\n",
              "    </tr>\n",
              "    <tr>\n",
              "      <th>1</th>\n",
              "      <td>2</td>\n",
              "      <td>Ngohiong Ayam Udang</td>\n",
              "      <td>ayam-daging</td>\n",
              "    </tr>\n",
              "    <tr>\n",
              "      <th>2</th>\n",
              "      <td>3</td>\n",
              "      <td>Rawon Ayam</td>\n",
              "      <td>ayam-daging</td>\n",
              "    </tr>\n",
              "    <tr>\n",
              "      <th>3</th>\n",
              "      <td>4</td>\n",
              "      <td>Usus Goreng Crispy</td>\n",
              "      <td>ayam-daging</td>\n",
              "    </tr>\n",
              "    <tr>\n",
              "      <th>4</th>\n",
              "      <td>5</td>\n",
              "      <td>Ceker Rica Rica</td>\n",
              "      <td>ayam-daging</td>\n",
              "    </tr>\n",
              "  </tbody>\n",
              "</table>\n",
              "</div>\n",
              "      <button class=\"colab-df-convert\" onclick=\"convertToInteractive('df-e1667fde-20ae-4096-8fa9-46b48567f108')\"\n",
              "              title=\"Convert this dataframe to an interactive table.\"\n",
              "              style=\"display:none;\">\n",
              "        \n",
              "  <svg xmlns=\"http://www.w3.org/2000/svg\" height=\"24px\"viewBox=\"0 0 24 24\"\n",
              "       width=\"24px\">\n",
              "    <path d=\"M0 0h24v24H0V0z\" fill=\"none\"/>\n",
              "    <path d=\"M18.56 5.44l.94 2.06.94-2.06 2.06-.94-2.06-.94-.94-2.06-.94 2.06-2.06.94zm-11 1L8.5 8.5l.94-2.06 2.06-.94-2.06-.94L8.5 2.5l-.94 2.06-2.06.94zm10 10l.94 2.06.94-2.06 2.06-.94-2.06-.94-.94-2.06-.94 2.06-2.06.94z\"/><path d=\"M17.41 7.96l-1.37-1.37c-.4-.4-.92-.59-1.43-.59-.52 0-1.04.2-1.43.59L10.3 9.45l-7.72 7.72c-.78.78-.78 2.05 0 2.83L4 21.41c.39.39.9.59 1.41.59.51 0 1.02-.2 1.41-.59l7.78-7.78 2.81-2.81c.8-.78.8-2.07 0-2.86zM5.41 20L4 18.59l7.72-7.72 1.47 1.35L5.41 20z\"/>\n",
              "  </svg>\n",
              "      </button>\n",
              "      \n",
              "  <style>\n",
              "    .colab-df-container {\n",
              "      display:flex;\n",
              "      flex-wrap:wrap;\n",
              "      gap: 12px;\n",
              "    }\n",
              "\n",
              "    .colab-df-convert {\n",
              "      background-color: #E8F0FE;\n",
              "      border: none;\n",
              "      border-radius: 50%;\n",
              "      cursor: pointer;\n",
              "      display: none;\n",
              "      fill: #1967D2;\n",
              "      height: 32px;\n",
              "      padding: 0 0 0 0;\n",
              "      width: 32px;\n",
              "    }\n",
              "\n",
              "    .colab-df-convert:hover {\n",
              "      background-color: #E2EBFA;\n",
              "      box-shadow: 0px 1px 2px rgba(60, 64, 67, 0.3), 0px 1px 3px 1px rgba(60, 64, 67, 0.15);\n",
              "      fill: #174EA6;\n",
              "    }\n",
              "\n",
              "    [theme=dark] .colab-df-convert {\n",
              "      background-color: #3B4455;\n",
              "      fill: #D2E3FC;\n",
              "    }\n",
              "\n",
              "    [theme=dark] .colab-df-convert:hover {\n",
              "      background-color: #434B5C;\n",
              "      box-shadow: 0px 1px 3px 1px rgba(0, 0, 0, 0.15);\n",
              "      filter: drop-shadow(0px 1px 2px rgba(0, 0, 0, 0.3));\n",
              "      fill: #FFFFFF;\n",
              "    }\n",
              "  </style>\n",
              "\n",
              "      <script>\n",
              "        const buttonEl =\n",
              "          document.querySelector('#df-e1667fde-20ae-4096-8fa9-46b48567f108 button.colab-df-convert');\n",
              "        buttonEl.style.display =\n",
              "          google.colab.kernel.accessAllowed ? 'block' : 'none';\n",
              "\n",
              "        async function convertToInteractive(key) {\n",
              "          const element = document.querySelector('#df-e1667fde-20ae-4096-8fa9-46b48567f108');\n",
              "          const dataTable =\n",
              "            await google.colab.kernel.invokeFunction('convertToInteractive',\n",
              "                                                     [key], {});\n",
              "          if (!dataTable) return;\n",
              "\n",
              "          const docLinkHtml = 'Like what you see? Visit the ' +\n",
              "            '<a target=\"_blank\" href=https://colab.research.google.com/notebooks/data_table.ipynb>data table notebook</a>'\n",
              "            + ' to learn more about interactive tables.';\n",
              "          element.innerHTML = '';\n",
              "          dataTable['output_type'] = 'display_data';\n",
              "          await google.colab.output.renderOutput(dataTable, element);\n",
              "          const docLink = document.createElement('div');\n",
              "          docLink.innerHTML = docLinkHtml;\n",
              "          element.appendChild(docLink);\n",
              "        }\n",
              "      </script>\n",
              "    </div>\n",
              "  </div>\n",
              "  "
            ]
          },
          "metadata": {},
          "execution_count": 13
        }
      ],
      "source": [
        "food.head()"
      ]
    },
    {
      "cell_type": "code",
      "execution_count": null,
      "metadata": {
        "execution": {
          "iopub.execute_input": "2021-08-10T15:52:29.265364Z",
          "iopub.status.busy": "2021-08-10T15:52:29.264717Z",
          "iopub.status.idle": "2021-08-10T15:52:31.691595Z",
          "shell.execute_reply": "2021-08-10T15:52:31.691065Z"
        },
        "papermill": {
          "duration": 2.457027,
          "end_time": "2021-08-10T15:52:31.691717",
          "exception": false,
          "start_time": "2021-08-10T15:52:29.234690",
          "status": "completed"
        },
        "tags": [],
        "id": "QUtutL_N8cau"
      },
      "outputs": [],
      "source": [
        "# Merge both DataFrame to have also the Name of the foods\n",
        "df = pd.merge(food,rating)\n",
        "\n",
        "# Keep only the columns Nama, userId and rating\n",
        "df = df[['Nama','userId','rating']]"
      ]
    },
    {
      "cell_type": "code",
      "execution_count": null,
      "metadata": {
        "execution": {
          "iopub.execute_input": "2021-08-10T15:52:31.745762Z",
          "iopub.status.busy": "2021-08-10T15:52:31.744854Z",
          "iopub.status.idle": "2021-08-10T15:52:31.749228Z",
          "shell.execute_reply": "2021-08-10T15:52:31.748643Z"
        },
        "papermill": {
          "duration": 0.035371,
          "end_time": "2021-08-10T15:52:31.749341",
          "exception": false,
          "start_time": "2021-08-10T15:52:31.713970",
          "status": "completed"
        },
        "tags": [],
        "colab": {
          "base_uri": "https://localhost:8080/",
          "height": 206
        },
        "id": "B0E7YnCt8cav",
        "outputId": "190172c4-503f-4680-e52e-0740093d478b"
      },
      "outputs": [
        {
          "output_type": "execute_result",
          "data": {
            "text/plain": [
              "          Nama  userId  rating\n",
              "0  Sosis Bakar      14     3.5\n",
              "1  Sosis Bakar      18     4.5\n",
              "2  Sosis Bakar      21     4.0\n",
              "3  Sosis Bakar      22     4.0\n",
              "4  Sosis Bakar      24     4.0"
            ],
            "text/html": [
              "\n",
              "  <div id=\"df-4367586c-7c5d-45de-89fc-53b0fa147bcd\">\n",
              "    <div class=\"colab-df-container\">\n",
              "      <div>\n",
              "<style scoped>\n",
              "    .dataframe tbody tr th:only-of-type {\n",
              "        vertical-align: middle;\n",
              "    }\n",
              "\n",
              "    .dataframe tbody tr th {\n",
              "        vertical-align: top;\n",
              "    }\n",
              "\n",
              "    .dataframe thead th {\n",
              "        text-align: right;\n",
              "    }\n",
              "</style>\n",
              "<table border=\"1\" class=\"dataframe\">\n",
              "  <thead>\n",
              "    <tr style=\"text-align: right;\">\n",
              "      <th></th>\n",
              "      <th>Nama</th>\n",
              "      <th>userId</th>\n",
              "      <th>rating</th>\n",
              "    </tr>\n",
              "  </thead>\n",
              "  <tbody>\n",
              "    <tr>\n",
              "      <th>0</th>\n",
              "      <td>Sosis Bakar</td>\n",
              "      <td>14</td>\n",
              "      <td>3.5</td>\n",
              "    </tr>\n",
              "    <tr>\n",
              "      <th>1</th>\n",
              "      <td>Sosis Bakar</td>\n",
              "      <td>18</td>\n",
              "      <td>4.5</td>\n",
              "    </tr>\n",
              "    <tr>\n",
              "      <th>2</th>\n",
              "      <td>Sosis Bakar</td>\n",
              "      <td>21</td>\n",
              "      <td>4.0</td>\n",
              "    </tr>\n",
              "    <tr>\n",
              "      <th>3</th>\n",
              "      <td>Sosis Bakar</td>\n",
              "      <td>22</td>\n",
              "      <td>4.0</td>\n",
              "    </tr>\n",
              "    <tr>\n",
              "      <th>4</th>\n",
              "      <td>Sosis Bakar</td>\n",
              "      <td>24</td>\n",
              "      <td>4.0</td>\n",
              "    </tr>\n",
              "  </tbody>\n",
              "</table>\n",
              "</div>\n",
              "      <button class=\"colab-df-convert\" onclick=\"convertToInteractive('df-4367586c-7c5d-45de-89fc-53b0fa147bcd')\"\n",
              "              title=\"Convert this dataframe to an interactive table.\"\n",
              "              style=\"display:none;\">\n",
              "        \n",
              "  <svg xmlns=\"http://www.w3.org/2000/svg\" height=\"24px\"viewBox=\"0 0 24 24\"\n",
              "       width=\"24px\">\n",
              "    <path d=\"M0 0h24v24H0V0z\" fill=\"none\"/>\n",
              "    <path d=\"M18.56 5.44l.94 2.06.94-2.06 2.06-.94-2.06-.94-.94-2.06-.94 2.06-2.06.94zm-11 1L8.5 8.5l.94-2.06 2.06-.94-2.06-.94L8.5 2.5l-.94 2.06-2.06.94zm10 10l.94 2.06.94-2.06 2.06-.94-2.06-.94-.94-2.06-.94 2.06-2.06.94z\"/><path d=\"M17.41 7.96l-1.37-1.37c-.4-.4-.92-.59-1.43-.59-.52 0-1.04.2-1.43.59L10.3 9.45l-7.72 7.72c-.78.78-.78 2.05 0 2.83L4 21.41c.39.39.9.59 1.41.59.51 0 1.02-.2 1.41-.59l7.78-7.78 2.81-2.81c.8-.78.8-2.07 0-2.86zM5.41 20L4 18.59l7.72-7.72 1.47 1.35L5.41 20z\"/>\n",
              "  </svg>\n",
              "      </button>\n",
              "      \n",
              "  <style>\n",
              "    .colab-df-container {\n",
              "      display:flex;\n",
              "      flex-wrap:wrap;\n",
              "      gap: 12px;\n",
              "    }\n",
              "\n",
              "    .colab-df-convert {\n",
              "      background-color: #E8F0FE;\n",
              "      border: none;\n",
              "      border-radius: 50%;\n",
              "      cursor: pointer;\n",
              "      display: none;\n",
              "      fill: #1967D2;\n",
              "      height: 32px;\n",
              "      padding: 0 0 0 0;\n",
              "      width: 32px;\n",
              "    }\n",
              "\n",
              "    .colab-df-convert:hover {\n",
              "      background-color: #E2EBFA;\n",
              "      box-shadow: 0px 1px 2px rgba(60, 64, 67, 0.3), 0px 1px 3px 1px rgba(60, 64, 67, 0.15);\n",
              "      fill: #174EA6;\n",
              "    }\n",
              "\n",
              "    [theme=dark] .colab-df-convert {\n",
              "      background-color: #3B4455;\n",
              "      fill: #D2E3FC;\n",
              "    }\n",
              "\n",
              "    [theme=dark] .colab-df-convert:hover {\n",
              "      background-color: #434B5C;\n",
              "      box-shadow: 0px 1px 3px 1px rgba(0, 0, 0, 0.15);\n",
              "      filter: drop-shadow(0px 1px 2px rgba(0, 0, 0, 0.3));\n",
              "      fill: #FFFFFF;\n",
              "    }\n",
              "  </style>\n",
              "\n",
              "      <script>\n",
              "        const buttonEl =\n",
              "          document.querySelector('#df-4367586c-7c5d-45de-89fc-53b0fa147bcd button.colab-df-convert');\n",
              "        buttonEl.style.display =\n",
              "          google.colab.kernel.accessAllowed ? 'block' : 'none';\n",
              "\n",
              "        async function convertToInteractive(key) {\n",
              "          const element = document.querySelector('#df-4367586c-7c5d-45de-89fc-53b0fa147bcd');\n",
              "          const dataTable =\n",
              "            await google.colab.kernel.invokeFunction('convertToInteractive',\n",
              "                                                     [key], {});\n",
              "          if (!dataTable) return;\n",
              "\n",
              "          const docLinkHtml = 'Like what you see? Visit the ' +\n",
              "            '<a target=\"_blank\" href=https://colab.research.google.com/notebooks/data_table.ipynb>data table notebook</a>'\n",
              "            + ' to learn more about interactive tables.';\n",
              "          element.innerHTML = '';\n",
              "          dataTable['output_type'] = 'display_data';\n",
              "          await google.colab.output.renderOutput(dataTable, element);\n",
              "          const docLink = document.createElement('div');\n",
              "          docLink.innerHTML = docLinkHtml;\n",
              "          element.appendChild(docLink);\n",
              "        }\n",
              "      </script>\n",
              "    </div>\n",
              "  </div>\n",
              "  "
            ]
          },
          "metadata": {},
          "execution_count": 15
        }
      ],
      "source": [
        "# Show the result\n",
        "df.head(5)"
      ]
    },
    {
      "cell_type": "code",
      "execution_count": null,
      "metadata": {
        "execution": {
          "iopub.execute_input": "2021-08-10T15:52:32.227279Z",
          "iopub.status.busy": "2021-08-10T15:52:31.969796Z",
          "iopub.status.idle": "2021-08-10T15:52:32.948803Z",
          "shell.execute_reply": "2021-08-10T15:52:32.949297Z"
        },
        "papermill": {
          "duration": 1.177059,
          "end_time": "2021-08-10T15:52:32.949470",
          "exception": false,
          "start_time": "2021-08-10T15:52:31.772411",
          "status": "completed"
        },
        "tags": [],
        "colab": {
          "base_uri": "https://localhost:8080/"
        },
        "id": "iCJJqh2u8caw",
        "outputId": "270e3615-a903-4715-fa53-c186f4951151"
      },
      "outputs": [
        {
          "output_type": "execute_result",
          "data": {
            "text/plain": [
              "Nama\n",
              "Sambal Goreng Kentang Udang    766\n",
              "Mie Ayam Bangka                764\n",
              "Nasi Goreng Magelangan         761\n",
              "Tahu Bubuk                     761\n",
              "Gyoza                          757\n",
              "Pesmol Ikan Nila               757\n",
              "Lontong Sayur Padang           755\n",
              "Tongseng Sapi                  755\n",
              "Sambal Cibiuk                  755\n",
              "Kepiting Lada Hitam            754\n",
              "Name: rating, dtype: int64"
            ]
          },
          "metadata": {},
          "execution_count": 16
        }
      ],
      "source": [
        "# Group the name by number of ratings to see which foods where rated the most\n",
        "count_rating = df.groupby(\"Nama\")['rating'].count().sort_values(ascending=False)\n",
        "count_rating.head(10)"
      ]
    },
    {
      "cell_type": "code",
      "execution_count": null,
      "metadata": {
        "execution": {
          "iopub.execute_input": "2021-08-10T15:52:33.224563Z",
          "iopub.status.busy": "2021-08-10T15:52:33.134437Z",
          "iopub.status.idle": "2021-08-10T15:52:38.028906Z",
          "shell.execute_reply": "2021-08-10T15:52:38.028293Z"
        },
        "papermill": {
          "duration": 5.055979,
          "end_time": "2021-08-10T15:52:38.029024",
          "exception": false,
          "start_time": "2021-08-10T15:52:32.973045",
          "status": "completed"
        },
        "tags": [],
        "id": "gK4pf3ud8cax"
      },
      "outputs": [],
      "source": [
        "# Select the foods with at least 500 ratings\n",
        "r = 500\n",
        "more_than_200_ratings = count_rating[count_rating.apply(lambda x: x >= r)].index\n",
        "\n",
        "# Keep only the foods with at least 500 ratings in the DataFrame\n",
        "df_r = df[df['Nama'].apply(lambda x: x in more_than_200_ratings)]"
      ]
    },
    {
      "cell_type": "code",
      "execution_count": null,
      "metadata": {
        "execution": {
          "iopub.execute_input": "2021-08-10T15:52:38.451767Z",
          "iopub.status.busy": "2021-08-10T15:52:38.226692Z",
          "iopub.status.idle": "2021-08-10T15:52:39.082244Z",
          "shell.execute_reply": "2021-08-10T15:52:39.081744Z"
        },
        "papermill": {
          "duration": 1.030192,
          "end_time": "2021-08-10T15:52:39.082358",
          "exception": false,
          "start_time": "2021-08-10T15:52:38.052166",
          "status": "completed"
        },
        "tags": [],
        "colab": {
          "base_uri": "https://localhost:8080/"
        },
        "id": "8Dh3u5318cay",
        "outputId": "cf7e28de-d445-4e26-8443-75d6c88bcae6"
      },
      "outputs": [
        {
          "output_type": "execute_result",
          "data": {
            "text/plain": [
              "Nama\n",
              "Sambal Goreng Kentang Udang    766\n",
              "Mie Ayam Bangka                764\n",
              "Nasi Goreng Magelangan         761\n",
              "Tahu Bubuk                     761\n",
              "Gyoza                          757\n",
              "                              ... \n",
              "Madu Mongso                    641\n",
              "Kering Tempe (Orek Tempe)      639\n",
              "Nasi Liwet Sunda Teri          628\n",
              "Jambal Roti Tumis              624\n",
              "Cheese Tart                    619\n",
              "Name: rating, Length: 1273, dtype: int64"
            ]
          },
          "metadata": {},
          "execution_count": 18
        }
      ],
      "source": [
        "# Display the count of ratings the each food\n",
        "# Having only the foods with at least 500 ratings\n",
        "df_r.groupby(\"Nama\")['rating'].count().sort_values(ascending=False)"
      ]
    },
    {
      "cell_type": "code",
      "execution_count": null,
      "metadata": {
        "execution": {
          "iopub.execute_input": "2021-08-10T15:52:39.551704Z",
          "iopub.status.busy": "2021-08-10T15:52:39.550838Z",
          "iopub.status.idle": "2021-08-10T15:52:40.705778Z",
          "shell.execute_reply": "2021-08-10T15:52:40.705269Z"
        },
        "papermill": {
          "duration": 1.600204,
          "end_time": "2021-08-10T15:52:40.705899",
          "exception": false,
          "start_time": "2021-08-10T15:52:39.105695",
          "status": "completed"
        },
        "tags": [],
        "colab": {
          "base_uri": "https://localhost:8080/"
        },
        "id": "lEoyF00k8caz",
        "outputId": "55917deb-3909-4f98-ad1f-2438f1f134cc"
      },
      "outputs": [
        {
          "output_type": "stream",
          "name": "stdout",
          "text": [
            "There are 1273 food in the dataset before filtering and 1273 food after the filtering.\n",
            "\n",
            "1273 food => 1273 food\n",
            "891874 rows before filtering => 891874 rows after filtering\n"
          ]
        }
      ],
      "source": [
        "before = len(df.Nama.unique())\n",
        "after = len(df_r.Nama.unique())\n",
        "rows_before = df.shape[0]\n",
        "rows_after = df_r.shape[0]\n",
        "print(f'''There are {before} food in the dataset before filtering and {after} food after the filtering.\n",
        "\n",
        "{before} food => {after} food\n",
        "{rows_before} rows before filtering => {rows_after} rows after filtering''')"
      ]
    },
    {
      "cell_type": "markdown",
      "metadata": {
        "papermill": {
          "duration": 0.023384,
          "end_time": "2021-08-10T15:52:40.752664",
          "exception": false,
          "start_time": "2021-08-10T15:52:40.729280",
          "status": "completed"
        },
        "tags": [],
        "id": "vBdYtwqw8caz"
      },
      "source": [
        "# 2. Collaborative Recommendation System<a class=\"anchor\" id=\"2\"></a>"
      ]
    },
    {
      "cell_type": "code",
      "execution_count": null,
      "metadata": {
        "execution": {
          "iopub.execute_input": "2021-08-10T15:52:40.855127Z",
          "iopub.status.busy": "2021-08-10T15:52:40.854032Z",
          "iopub.status.idle": "2021-08-10T15:52:57.446315Z",
          "shell.execute_reply": "2021-08-10T15:52:57.446831Z"
        },
        "papermill": {
          "duration": 16.670909,
          "end_time": "2021-08-10T15:52:57.446981",
          "exception": false,
          "start_time": "2021-08-10T15:52:40.776072",
          "status": "completed"
        },
        "tags": [],
        "colab": {
          "base_uri": "https://localhost:8080/",
          "height": 238
        },
        "id": "m-jM0bLx8caz",
        "outputId": "f7a96aea-bd21-433b-f384-3e67d97f11fe"
      },
      "outputs": [
        {
          "output_type": "execute_result",
          "data": {
            "text/plain": [
              "Nama    Abon Ikan Tongkol  Abon Sapi  Abon Tuna  Acar Timun  Almond Crispy\n",
              "userId                                                                    \n",
              "1                     NaN        NaN        NaN         NaN            3.5\n",
              "2                     NaN        NaN        NaN         NaN            NaN\n",
              "3                     NaN        NaN        NaN         5.0            5.0\n",
              "4                     NaN        NaN        NaN         NaN            NaN\n",
              "5                     NaN        NaN        NaN         NaN            NaN"
            ],
            "text/html": [
              "\n",
              "  <div id=\"df-84cfe434-d5b6-48ae-bea5-5f5e8f655db8\">\n",
              "    <div class=\"colab-df-container\">\n",
              "      <div>\n",
              "<style scoped>\n",
              "    .dataframe tbody tr th:only-of-type {\n",
              "        vertical-align: middle;\n",
              "    }\n",
              "\n",
              "    .dataframe tbody tr th {\n",
              "        vertical-align: top;\n",
              "    }\n",
              "\n",
              "    .dataframe thead th {\n",
              "        text-align: right;\n",
              "    }\n",
              "</style>\n",
              "<table border=\"1\" class=\"dataframe\">\n",
              "  <thead>\n",
              "    <tr style=\"text-align: right;\">\n",
              "      <th>Nama</th>\n",
              "      <th>Abon Ikan Tongkol</th>\n",
              "      <th>Abon Sapi</th>\n",
              "      <th>Abon Tuna</th>\n",
              "      <th>Acar Timun</th>\n",
              "      <th>Almond Crispy</th>\n",
              "    </tr>\n",
              "    <tr>\n",
              "      <th>userId</th>\n",
              "      <th></th>\n",
              "      <th></th>\n",
              "      <th></th>\n",
              "      <th></th>\n",
              "      <th></th>\n",
              "    </tr>\n",
              "  </thead>\n",
              "  <tbody>\n",
              "    <tr>\n",
              "      <th>1</th>\n",
              "      <td>NaN</td>\n",
              "      <td>NaN</td>\n",
              "      <td>NaN</td>\n",
              "      <td>NaN</td>\n",
              "      <td>3.5</td>\n",
              "    </tr>\n",
              "    <tr>\n",
              "      <th>2</th>\n",
              "      <td>NaN</td>\n",
              "      <td>NaN</td>\n",
              "      <td>NaN</td>\n",
              "      <td>NaN</td>\n",
              "      <td>NaN</td>\n",
              "    </tr>\n",
              "    <tr>\n",
              "      <th>3</th>\n",
              "      <td>NaN</td>\n",
              "      <td>NaN</td>\n",
              "      <td>NaN</td>\n",
              "      <td>5.0</td>\n",
              "      <td>5.0</td>\n",
              "    </tr>\n",
              "    <tr>\n",
              "      <th>4</th>\n",
              "      <td>NaN</td>\n",
              "      <td>NaN</td>\n",
              "      <td>NaN</td>\n",
              "      <td>NaN</td>\n",
              "      <td>NaN</td>\n",
              "    </tr>\n",
              "    <tr>\n",
              "      <th>5</th>\n",
              "      <td>NaN</td>\n",
              "      <td>NaN</td>\n",
              "      <td>NaN</td>\n",
              "      <td>NaN</td>\n",
              "      <td>NaN</td>\n",
              "    </tr>\n",
              "  </tbody>\n",
              "</table>\n",
              "</div>\n",
              "      <button class=\"colab-df-convert\" onclick=\"convertToInteractive('df-84cfe434-d5b6-48ae-bea5-5f5e8f655db8')\"\n",
              "              title=\"Convert this dataframe to an interactive table.\"\n",
              "              style=\"display:none;\">\n",
              "        \n",
              "  <svg xmlns=\"http://www.w3.org/2000/svg\" height=\"24px\"viewBox=\"0 0 24 24\"\n",
              "       width=\"24px\">\n",
              "    <path d=\"M0 0h24v24H0V0z\" fill=\"none\"/>\n",
              "    <path d=\"M18.56 5.44l.94 2.06.94-2.06 2.06-.94-2.06-.94-.94-2.06-.94 2.06-2.06.94zm-11 1L8.5 8.5l.94-2.06 2.06-.94-2.06-.94L8.5 2.5l-.94 2.06-2.06.94zm10 10l.94 2.06.94-2.06 2.06-.94-2.06-.94-.94-2.06-.94 2.06-2.06.94z\"/><path d=\"M17.41 7.96l-1.37-1.37c-.4-.4-.92-.59-1.43-.59-.52 0-1.04.2-1.43.59L10.3 9.45l-7.72 7.72c-.78.78-.78 2.05 0 2.83L4 21.41c.39.39.9.59 1.41.59.51 0 1.02-.2 1.41-.59l7.78-7.78 2.81-2.81c.8-.78.8-2.07 0-2.86zM5.41 20L4 18.59l7.72-7.72 1.47 1.35L5.41 20z\"/>\n",
              "  </svg>\n",
              "      </button>\n",
              "      \n",
              "  <style>\n",
              "    .colab-df-container {\n",
              "      display:flex;\n",
              "      flex-wrap:wrap;\n",
              "      gap: 12px;\n",
              "    }\n",
              "\n",
              "    .colab-df-convert {\n",
              "      background-color: #E8F0FE;\n",
              "      border: none;\n",
              "      border-radius: 50%;\n",
              "      cursor: pointer;\n",
              "      display: none;\n",
              "      fill: #1967D2;\n",
              "      height: 32px;\n",
              "      padding: 0 0 0 0;\n",
              "      width: 32px;\n",
              "    }\n",
              "\n",
              "    .colab-df-convert:hover {\n",
              "      background-color: #E2EBFA;\n",
              "      box-shadow: 0px 1px 2px rgba(60, 64, 67, 0.3), 0px 1px 3px 1px rgba(60, 64, 67, 0.15);\n",
              "      fill: #174EA6;\n",
              "    }\n",
              "\n",
              "    [theme=dark] .colab-df-convert {\n",
              "      background-color: #3B4455;\n",
              "      fill: #D2E3FC;\n",
              "    }\n",
              "\n",
              "    [theme=dark] .colab-df-convert:hover {\n",
              "      background-color: #434B5C;\n",
              "      box-shadow: 0px 1px 3px 1px rgba(0, 0, 0, 0.15);\n",
              "      filter: drop-shadow(0px 1px 2px rgba(0, 0, 0, 0.3));\n",
              "      fill: #FFFFFF;\n",
              "    }\n",
              "  </style>\n",
              "\n",
              "      <script>\n",
              "        const buttonEl =\n",
              "          document.querySelector('#df-84cfe434-d5b6-48ae-bea5-5f5e8f655db8 button.colab-df-convert');\n",
              "        buttonEl.style.display =\n",
              "          google.colab.kernel.accessAllowed ? 'block' : 'none';\n",
              "\n",
              "        async function convertToInteractive(key) {\n",
              "          const element = document.querySelector('#df-84cfe434-d5b6-48ae-bea5-5f5e8f655db8');\n",
              "          const dataTable =\n",
              "            await google.colab.kernel.invokeFunction('convertToInteractive',\n",
              "                                                     [key], {});\n",
              "          if (!dataTable) return;\n",
              "\n",
              "          const docLinkHtml = 'Like what you see? Visit the ' +\n",
              "            '<a target=\"_blank\" href=https://colab.research.google.com/notebooks/data_table.ipynb>data table notebook</a>'\n",
              "            + ' to learn more about interactive tables.';\n",
              "          element.innerHTML = '';\n",
              "          dataTable['output_type'] = 'display_data';\n",
              "          await google.colab.output.renderOutput(dataTable, element);\n",
              "          const docLink = document.createElement('div');\n",
              "          docLink.innerHTML = docLinkHtml;\n",
              "          element.appendChild(docLink);\n",
              "        }\n",
              "      </script>\n",
              "    </div>\n",
              "  </div>\n",
              "  "
            ]
          },
          "metadata": {},
          "execution_count": 20
        }
      ],
      "source": [
        "# Create a matrix with userId as rows and the Name of the foods as column.\n",
        "# Each cell will have the rating given by the user to the food.\n",
        "# There will be a lot of NaN values, because each user hasn't watched most of the foods\n",
        "foods = df_r.pivot_table(index='userId',columns='Nama',values='rating')\n",
        "foods.iloc[:5,:5]"
      ]
    },
    {
      "cell_type": "code",
      "execution_count": null,
      "metadata": {
        "execution": {
          "iopub.execute_input": "2021-08-10T15:52:57.505460Z",
          "iopub.status.busy": "2021-08-10T15:52:57.504504Z",
          "iopub.status.idle": "2021-08-10T15:52:57.514432Z",
          "shell.execute_reply": "2021-08-10T15:52:57.514928Z"
        },
        "papermill": {
          "duration": 0.037647,
          "end_time": "2021-08-10T15:52:57.515069",
          "exception": false,
          "start_time": "2021-08-10T15:52:57.477422",
          "status": "completed"
        },
        "tags": [],
        "colab": {
          "base_uri": "https://localhost:8080/"
        },
        "id": "TZqHprN98ca0",
        "outputId": "693ffaf1-fe85-4ee8-c611-9ed1ace2afce"
      },
      "outputs": [
        {
          "output_type": "execute_result",
          "data": {
            "text/plain": [
              "userId\n",
              "1   NaN\n",
              "2   NaN\n",
              "3   NaN\n",
              "4   NaN\n",
              "5   NaN\n",
              "Name: Mie Ayam Bangka, dtype: float64"
            ]
          },
          "metadata": {},
          "execution_count": 21
        }
      ],
      "source": [
        "# Let's choose a famous food\n",
        "food = 'Mie Ayam Bangka'\n",
        "\n",
        "# Display the first ratings of the users for this food\n",
        "foods[food].head(5)"
      ]
    },
    {
      "cell_type": "code",
      "execution_count": null,
      "metadata": {
        "execution": {
          "iopub.execute_input": "2021-08-10T15:52:57.568828Z",
          "iopub.status.busy": "2021-08-10T15:52:57.568208Z",
          "iopub.status.idle": "2021-08-10T15:52:57.574853Z",
          "shell.execute_reply": "2021-08-10T15:52:57.574211Z"
        },
        "papermill": {
          "duration": 0.03492,
          "end_time": "2021-08-10T15:52:57.574967",
          "exception": false,
          "start_time": "2021-08-10T15:52:57.540047",
          "status": "completed"
        },
        "tags": [],
        "id": "HRrqvWnK8ca0"
      },
      "outputs": [],
      "source": [
        "#function to find correlation \n",
        "def find_corr(df_foods, food_name):\n",
        "    similar_to_food = df_foods.corrwith(foods[food_name])\n",
        "    similar_to_food = pd.DataFrame(similar_to_food,columns=['Correlation'])\n",
        "    similar_to_food = similar_to_food.sort_values(by = 'Correlation', ascending = False)\n",
        "    return similar_to_food"
      ]
    },
    {
      "cell_type": "markdown",
      "metadata": {
        "papermill": {
          "duration": 0.025158,
          "end_time": "2021-08-10T15:52:57.625598",
          "exception": false,
          "start_time": "2021-08-10T15:52:57.600440",
          "status": "completed"
        },
        "tags": [],
        "id": "7y6YWr0H8ca1"
      },
      "source": [
        "# 3. Recommendations <a class=\"anchor\" id=\"3\"></a>\n",
        "\n",
        "\n"
      ]
    },
    {
      "cell_type": "markdown",
      "metadata": {
        "papermill": {
          "duration": 0.025994,
          "end_time": "2021-08-10T15:52:57.676650",
          "exception": false,
          "start_time": "2021-08-10T15:52:57.650656",
          "status": "completed"
        },
        "tags": [],
        "id": "YTRPqUWD8ca1"
      },
      "source": [
        "## 3.1. Mie Ayam Bangka\n",
        "\n",
        "\n"
      ]
    },
    {
      "cell_type": "code",
      "execution_count": null,
      "metadata": {
        "execution": {
          "iopub.execute_input": "2021-08-10T15:52:57.731655Z",
          "iopub.status.busy": "2021-08-10T15:52:57.730918Z",
          "iopub.status.idle": "2021-08-10T15:53:04.582641Z",
          "shell.execute_reply": "2021-08-10T15:53:04.583154Z"
        },
        "papermill": {
          "duration": 6.881573,
          "end_time": "2021-08-10T15:53:04.583318",
          "exception": false,
          "start_time": "2021-08-10T15:52:57.701745",
          "status": "completed"
        },
        "tags": [],
        "colab": {
          "base_uri": "https://localhost:8080/",
          "height": 238
        },
        "id": "mbw90Kie8ca1",
        "outputId": "4b298c0f-d888-4823-edee-c7f32d25c68d"
      },
      "outputs": [
        {
          "output_type": "execute_result",
          "data": {
            "text/plain": [
              "                 Correlation\n",
              "Nama                        \n",
              "Mie Ayam Bangka     1.000000\n",
              "Ayam Kecap Jahe     0.440634\n",
              "Ratatouille         0.412222\n",
              "Pempek Lenggang     0.384053\n",
              "Sambal Cumi         0.362979"
            ],
            "text/html": [
              "\n",
              "  <div id=\"df-90da9d51-9368-44ed-9248-d9b05c46af25\">\n",
              "    <div class=\"colab-df-container\">\n",
              "      <div>\n",
              "<style scoped>\n",
              "    .dataframe tbody tr th:only-of-type {\n",
              "        vertical-align: middle;\n",
              "    }\n",
              "\n",
              "    .dataframe tbody tr th {\n",
              "        vertical-align: top;\n",
              "    }\n",
              "\n",
              "    .dataframe thead th {\n",
              "        text-align: right;\n",
              "    }\n",
              "</style>\n",
              "<table border=\"1\" class=\"dataframe\">\n",
              "  <thead>\n",
              "    <tr style=\"text-align: right;\">\n",
              "      <th></th>\n",
              "      <th>Correlation</th>\n",
              "    </tr>\n",
              "    <tr>\n",
              "      <th>Nama</th>\n",
              "      <th></th>\n",
              "    </tr>\n",
              "  </thead>\n",
              "  <tbody>\n",
              "    <tr>\n",
              "      <th>Mie Ayam Bangka</th>\n",
              "      <td>1.000000</td>\n",
              "    </tr>\n",
              "    <tr>\n",
              "      <th>Ayam Kecap Jahe</th>\n",
              "      <td>0.440634</td>\n",
              "    </tr>\n",
              "    <tr>\n",
              "      <th>Ratatouille</th>\n",
              "      <td>0.412222</td>\n",
              "    </tr>\n",
              "    <tr>\n",
              "      <th>Pempek Lenggang</th>\n",
              "      <td>0.384053</td>\n",
              "    </tr>\n",
              "    <tr>\n",
              "      <th>Sambal Cumi</th>\n",
              "      <td>0.362979</td>\n",
              "    </tr>\n",
              "  </tbody>\n",
              "</table>\n",
              "</div>\n",
              "      <button class=\"colab-df-convert\" onclick=\"convertToInteractive('df-90da9d51-9368-44ed-9248-d9b05c46af25')\"\n",
              "              title=\"Convert this dataframe to an interactive table.\"\n",
              "              style=\"display:none;\">\n",
              "        \n",
              "  <svg xmlns=\"http://www.w3.org/2000/svg\" height=\"24px\"viewBox=\"0 0 24 24\"\n",
              "       width=\"24px\">\n",
              "    <path d=\"M0 0h24v24H0V0z\" fill=\"none\"/>\n",
              "    <path d=\"M18.56 5.44l.94 2.06.94-2.06 2.06-.94-2.06-.94-.94-2.06-.94 2.06-2.06.94zm-11 1L8.5 8.5l.94-2.06 2.06-.94-2.06-.94L8.5 2.5l-.94 2.06-2.06.94zm10 10l.94 2.06.94-2.06 2.06-.94-2.06-.94-.94-2.06-.94 2.06-2.06.94z\"/><path d=\"M17.41 7.96l-1.37-1.37c-.4-.4-.92-.59-1.43-.59-.52 0-1.04.2-1.43.59L10.3 9.45l-7.72 7.72c-.78.78-.78 2.05 0 2.83L4 21.41c.39.39.9.59 1.41.59.51 0 1.02-.2 1.41-.59l7.78-7.78 2.81-2.81c.8-.78.8-2.07 0-2.86zM5.41 20L4 18.59l7.72-7.72 1.47 1.35L5.41 20z\"/>\n",
              "  </svg>\n",
              "      </button>\n",
              "      \n",
              "  <style>\n",
              "    .colab-df-container {\n",
              "      display:flex;\n",
              "      flex-wrap:wrap;\n",
              "      gap: 12px;\n",
              "    }\n",
              "\n",
              "    .colab-df-convert {\n",
              "      background-color: #E8F0FE;\n",
              "      border: none;\n",
              "      border-radius: 50%;\n",
              "      cursor: pointer;\n",
              "      display: none;\n",
              "      fill: #1967D2;\n",
              "      height: 32px;\n",
              "      padding: 0 0 0 0;\n",
              "      width: 32px;\n",
              "    }\n",
              "\n",
              "    .colab-df-convert:hover {\n",
              "      background-color: #E2EBFA;\n",
              "      box-shadow: 0px 1px 2px rgba(60, 64, 67, 0.3), 0px 1px 3px 1px rgba(60, 64, 67, 0.15);\n",
              "      fill: #174EA6;\n",
              "    }\n",
              "\n",
              "    [theme=dark] .colab-df-convert {\n",
              "      background-color: #3B4455;\n",
              "      fill: #D2E3FC;\n",
              "    }\n",
              "\n",
              "    [theme=dark] .colab-df-convert:hover {\n",
              "      background-color: #434B5C;\n",
              "      box-shadow: 0px 1px 3px 1px rgba(0, 0, 0, 0.15);\n",
              "      filter: drop-shadow(0px 1px 2px rgba(0, 0, 0, 0.3));\n",
              "      fill: #FFFFFF;\n",
              "    }\n",
              "  </style>\n",
              "\n",
              "      <script>\n",
              "        const buttonEl =\n",
              "          document.querySelector('#df-90da9d51-9368-44ed-9248-d9b05c46af25 button.colab-df-convert');\n",
              "        buttonEl.style.display =\n",
              "          google.colab.kernel.accessAllowed ? 'block' : 'none';\n",
              "\n",
              "        async function convertToInteractive(key) {\n",
              "          const element = document.querySelector('#df-90da9d51-9368-44ed-9248-d9b05c46af25');\n",
              "          const dataTable =\n",
              "            await google.colab.kernel.invokeFunction('convertToInteractive',\n",
              "                                                     [key], {});\n",
              "          if (!dataTable) return;\n",
              "\n",
              "          const docLinkHtml = 'Like what you see? Visit the ' +\n",
              "            '<a target=\"_blank\" href=https://colab.research.google.com/notebooks/data_table.ipynb>data table notebook</a>'\n",
              "            + ' to learn more about interactive tables.';\n",
              "          element.innerHTML = '';\n",
              "          dataTable['output_type'] = 'display_data';\n",
              "          await google.colab.output.renderOutput(dataTable, element);\n",
              "          const docLink = document.createElement('div');\n",
              "          docLink.innerHTML = docLinkHtml;\n",
              "          element.appendChild(docLink);\n",
              "        }\n",
              "      </script>\n",
              "    </div>\n",
              "  </div>\n",
              "  "
            ]
          },
          "metadata": {},
          "execution_count": 23
        }
      ],
      "source": [
        "# Let's try with the second food\n",
        "food_name = 'Mie Ayam Bangka'\n",
        "find_corr(foods, food_name).head(5)"
      ]
    },
    {
      "cell_type": "markdown",
      "metadata": {
        "papermill": {
          "duration": 0.024821,
          "end_time": "2021-08-10T15:53:04.633381",
          "exception": false,
          "start_time": "2021-08-10T15:53:04.608560",
          "status": "completed"
        },
        "tags": [],
        "id": "xGN3fn2j8ca3"
      },
      "source": [
        "We can see that people who ate mie ayam bangka are most likely to like also ayam kecap jahe because the correlation is highler. On the bottom are the foods which are not likely to be liked by the users."
      ]
    },
    {
      "cell_type": "markdown",
      "metadata": {
        "papermill": {
          "duration": 0.024795,
          "end_time": "2021-08-10T15:53:04.683753",
          "exception": false,
          "start_time": "2021-08-10T15:53:04.658958",
          "status": "completed"
        },
        "tags": [],
        "id": "BfaeSFaO8ca3"
      },
      "source": [
        "## 3.2. Sambal Goreng Kentang Udang"
      ]
    },
    {
      "cell_type": "code",
      "execution_count": null,
      "metadata": {
        "execution": {
          "iopub.execute_input": "2021-08-10T15:53:04.788808Z",
          "iopub.status.busy": "2021-08-10T15:53:04.787844Z",
          "iopub.status.idle": "2021-08-10T15:53:10.875597Z",
          "shell.execute_reply": "2021-08-10T15:53:10.876073Z"
        },
        "papermill": {
          "duration": 6.117527,
          "end_time": "2021-08-10T15:53:10.876259",
          "exception": false,
          "start_time": "2021-08-10T15:53:04.758732",
          "status": "completed"
        },
        "tags": [],
        "colab": {
          "base_uri": "https://localhost:8080/",
          "height": 238
        },
        "id": "vruuGIK28ca4",
        "outputId": "9238e9f4-1c7b-4768-f603-0b2b03293eb8"
      },
      "outputs": [
        {
          "output_type": "execute_result",
          "data": {
            "text/plain": [
              "                             Correlation\n",
              "Nama                                    \n",
              "Sambal Goreng Kentang Udang     1.000000\n",
              "Martabak Mie                    0.384575\n",
              "Kue Tusuk Gigi                  0.384289\n",
              "Martabak Manis Keju Susu        0.376577\n",
              "Kimbab                          0.373212"
            ],
            "text/html": [
              "\n",
              "  <div id=\"df-14430325-41fd-4983-b766-ca0117d64c41\">\n",
              "    <div class=\"colab-df-container\">\n",
              "      <div>\n",
              "<style scoped>\n",
              "    .dataframe tbody tr th:only-of-type {\n",
              "        vertical-align: middle;\n",
              "    }\n",
              "\n",
              "    .dataframe tbody tr th {\n",
              "        vertical-align: top;\n",
              "    }\n",
              "\n",
              "    .dataframe thead th {\n",
              "        text-align: right;\n",
              "    }\n",
              "</style>\n",
              "<table border=\"1\" class=\"dataframe\">\n",
              "  <thead>\n",
              "    <tr style=\"text-align: right;\">\n",
              "      <th></th>\n",
              "      <th>Correlation</th>\n",
              "    </tr>\n",
              "    <tr>\n",
              "      <th>Nama</th>\n",
              "      <th></th>\n",
              "    </tr>\n",
              "  </thead>\n",
              "  <tbody>\n",
              "    <tr>\n",
              "      <th>Sambal Goreng Kentang Udang</th>\n",
              "      <td>1.000000</td>\n",
              "    </tr>\n",
              "    <tr>\n",
              "      <th>Martabak Mie</th>\n",
              "      <td>0.384575</td>\n",
              "    </tr>\n",
              "    <tr>\n",
              "      <th>Kue Tusuk Gigi</th>\n",
              "      <td>0.384289</td>\n",
              "    </tr>\n",
              "    <tr>\n",
              "      <th>Martabak Manis Keju Susu</th>\n",
              "      <td>0.376577</td>\n",
              "    </tr>\n",
              "    <tr>\n",
              "      <th>Kimbab</th>\n",
              "      <td>0.373212</td>\n",
              "    </tr>\n",
              "  </tbody>\n",
              "</table>\n",
              "</div>\n",
              "      <button class=\"colab-df-convert\" onclick=\"convertToInteractive('df-14430325-41fd-4983-b766-ca0117d64c41')\"\n",
              "              title=\"Convert this dataframe to an interactive table.\"\n",
              "              style=\"display:none;\">\n",
              "        \n",
              "  <svg xmlns=\"http://www.w3.org/2000/svg\" height=\"24px\"viewBox=\"0 0 24 24\"\n",
              "       width=\"24px\">\n",
              "    <path d=\"M0 0h24v24H0V0z\" fill=\"none\"/>\n",
              "    <path d=\"M18.56 5.44l.94 2.06.94-2.06 2.06-.94-2.06-.94-.94-2.06-.94 2.06-2.06.94zm-11 1L8.5 8.5l.94-2.06 2.06-.94-2.06-.94L8.5 2.5l-.94 2.06-2.06.94zm10 10l.94 2.06.94-2.06 2.06-.94-2.06-.94-.94-2.06-.94 2.06-2.06.94z\"/><path d=\"M17.41 7.96l-1.37-1.37c-.4-.4-.92-.59-1.43-.59-.52 0-1.04.2-1.43.59L10.3 9.45l-7.72 7.72c-.78.78-.78 2.05 0 2.83L4 21.41c.39.39.9.59 1.41.59.51 0 1.02-.2 1.41-.59l7.78-7.78 2.81-2.81c.8-.78.8-2.07 0-2.86zM5.41 20L4 18.59l7.72-7.72 1.47 1.35L5.41 20z\"/>\n",
              "  </svg>\n",
              "      </button>\n",
              "      \n",
              "  <style>\n",
              "    .colab-df-container {\n",
              "      display:flex;\n",
              "      flex-wrap:wrap;\n",
              "      gap: 12px;\n",
              "    }\n",
              "\n",
              "    .colab-df-convert {\n",
              "      background-color: #E8F0FE;\n",
              "      border: none;\n",
              "      border-radius: 50%;\n",
              "      cursor: pointer;\n",
              "      display: none;\n",
              "      fill: #1967D2;\n",
              "      height: 32px;\n",
              "      padding: 0 0 0 0;\n",
              "      width: 32px;\n",
              "    }\n",
              "\n",
              "    .colab-df-convert:hover {\n",
              "      background-color: #E2EBFA;\n",
              "      box-shadow: 0px 1px 2px rgba(60, 64, 67, 0.3), 0px 1px 3px 1px rgba(60, 64, 67, 0.15);\n",
              "      fill: #174EA6;\n",
              "    }\n",
              "\n",
              "    [theme=dark] .colab-df-convert {\n",
              "      background-color: #3B4455;\n",
              "      fill: #D2E3FC;\n",
              "    }\n",
              "\n",
              "    [theme=dark] .colab-df-convert:hover {\n",
              "      background-color: #434B5C;\n",
              "      box-shadow: 0px 1px 3px 1px rgba(0, 0, 0, 0.15);\n",
              "      filter: drop-shadow(0px 1px 2px rgba(0, 0, 0, 0.3));\n",
              "      fill: #FFFFFF;\n",
              "    }\n",
              "  </style>\n",
              "\n",
              "      <script>\n",
              "        const buttonEl =\n",
              "          document.querySelector('#df-14430325-41fd-4983-b766-ca0117d64c41 button.colab-df-convert');\n",
              "        buttonEl.style.display =\n",
              "          google.colab.kernel.accessAllowed ? 'block' : 'none';\n",
              "\n",
              "        async function convertToInteractive(key) {\n",
              "          const element = document.querySelector('#df-14430325-41fd-4983-b766-ca0117d64c41');\n",
              "          const dataTable =\n",
              "            await google.colab.kernel.invokeFunction('convertToInteractive',\n",
              "                                                     [key], {});\n",
              "          if (!dataTable) return;\n",
              "\n",
              "          const docLinkHtml = 'Like what you see? Visit the ' +\n",
              "            '<a target=\"_blank\" href=https://colab.research.google.com/notebooks/data_table.ipynb>data table notebook</a>'\n",
              "            + ' to learn more about interactive tables.';\n",
              "          element.innerHTML = '';\n",
              "          dataTable['output_type'] = 'display_data';\n",
              "          await google.colab.output.renderOutput(dataTable, element);\n",
              "          const docLink = document.createElement('div');\n",
              "          docLink.innerHTML = docLinkHtml;\n",
              "          element.appendChild(docLink);\n",
              "        }\n",
              "      </script>\n",
              "    </div>\n",
              "  </div>\n",
              "  "
            ]
          },
          "metadata": {},
          "execution_count": 24
        }
      ],
      "source": [
        "# Let's try with the first food\n",
        "food_name = 'Sambal Goreng Kentang Udang'\n",
        "find_corr(foods, food_name).head(5)"
      ]
    },
    {
      "cell_type": "markdown",
      "metadata": {
        "papermill": {
          "duration": 0.025544,
          "end_time": "2021-08-10T15:53:10.980484",
          "exception": false,
          "start_time": "2021-08-10T15:53:10.954940",
          "status": "completed"
        },
        "tags": [],
        "id": "Kpkspt3s8ca5"
      },
      "source": [
        "This recommendation system using correlation is simple and nonetheless effective as a basic recommendation system. It works well to recommend foods for someone who likes one specific food."
      ]
    }
  ],
  "metadata": {
    "kernelspec": {
      "display_name": "Python 3",
      "language": "python",
      "name": "python3"
    },
    "language_info": {
      "codemirror_mode": {
        "name": "ipython",
        "version": 3
      },
      "file_extension": ".py",
      "mimetype": "text/x-python",
      "name": "python",
      "nbconvert_exporter": "python",
      "pygments_lexer": "ipython3",
      "version": "3.7.6"
    },
    "papermill": {
      "duration": 96.236106,
      "end_time": "2021-08-10T15:53:11.114440",
      "environment_variables": {},
      "exception": null,
      "input_path": "__notebook__.ipynb",
      "output_path": "__notebook__.ipynb",
      "parameters": {},
      "start_time": "2021-08-10T15:51:34.878334",
      "version": "2.1.0"
    },
    "colab": {
      "name": "Sirkadian_Collaborative_Filtering.ipynb",
      "provenance": [],
      "collapsed_sections": []
    }
  },
  "nbformat": 4,
  "nbformat_minor": 0
}